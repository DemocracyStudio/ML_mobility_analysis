{
 "cells": [
  {
   "cell_type": "markdown",
   "metadata": {
    "id": "G4t0atHXXK3e"
   },
   "source": [
    "# Business School of AI\n",
    "## LiveLab September 21 : Machine Learning on mobility data\n",
    "- setup your environment and upload your dataset\n",
    "- clean your data\n",
    "- exploratory data analysis\n",
    "- find dependencies between variables\n",
    "- data visualisation\n",
    "- predicting trip duration with machine learning\n",
    "- refine your predictive performance with feature reduction technique\n",
    "\n",
    "#### this data analysis is done on the data record file https://data.louisvilleky.gov/dataset/dockless-vehicles/resource/e36546f6-888b-4e66-8a87-9b68cab471e6#{view-graph:{graphOptions:{hooks:{processOffset:{},bindEvents:{}}}},graphOptions:{hooks:{processOffset:{},bindEvents:{}}}}"
   ]
  },
  {
   "cell_type": "code",
   "execution_count": null,
   "metadata": {
    "id": "uU8mhzpcXK3j"
   },
   "outputs": [],
   "source": [
    "# setup your coding environment\n",
    "import pandas as pd\n",
    "pd.set_option('display.max_columns', None)\n",
    "pd.set_option('display.max_rows', None)\n",
    "import numpy as np\n",
    "\n",
    "import matplotlib\n",
    "%matplotlib inline\n",
    "import matplotlib.pyplot as plt\n",
    "import seaborn as sns\n",
    "\n"
   ]
  },
  {
   "cell_type": "markdown",
   "metadata": {
    "id": "PXqCEGrkXK3k"
   },
   "source": [
    "#### note: if you miss any library at the import, you can install it with\n",
    "!pip install libraryname\n",
    "\n",
    "#### to import the dataset from your drive to your colab, you'll need to execute the following code:\n",
    "\n",
    "- it will ask you to copy/paste a validation code on this notebook\n",
    "- it will say \"Mounted at /content/gdrive\" when done."
   ]
  },
  {
   "cell_type": "code",
   "execution_count": null,
   "metadata": {
    "colab": {
     "base_uri": "https://localhost:8080/"
    },
    "id": "NqjvobHFYrCH",
    "outputId": "3b364072-329b-43bb-c46d-42e1b4194ebd"
   },
   "outputs": [],
   "source": [
    "from google.colab import drive \n",
    "drive.mount(\"/content/gdrive\")"
   ]
  },
  {
   "cell_type": "code",
   "execution_count": null,
   "metadata": {
    "id": "Idfdpm-jXK3l"
   },
   "outputs": [],
   "source": [
    "# upload your dataset\n",
    "dockless = pd.read_csv('/content/gdrive/My Drive/DocklessTripOpenData_10.csv')"
   ]
  },
  {
   "cell_type": "code",
   "execution_count": null,
   "metadata": {
    "colab": {
     "base_uri": "https://localhost:8080/"
    },
    "id": "gz3mXaNGXK3l",
    "outputId": "288e939e-2428-4782-b621-6cc30ac4c8a2"
   },
   "outputs": [],
   "source": [
    "# check dataset size\n",
    "dockless.shape"
   ]
  },
  {
   "cell_type": "code",
   "execution_count": null,
   "metadata": {
    "colab": {
     "base_uri": "https://localhost:8080/",
     "height": 564
    },
    "id": "DFhri0PGXK3n",
    "outputId": "26332e42-f7a1-49fe-e2e9-8fd0d312faf7"
   },
   "outputs": [],
   "source": [
    "# preview dataset content\n",
    "dockless.head()"
   ]
  },
  {
   "cell_type": "markdown",
   "metadata": {
    "id": "Mt8w7fH3XK3n"
   },
   "source": [
    "### 1. Clean dataset: \n",
    "- rename header in lowercase (show error in calling it first)\n",
    "- delete outliers (tripdistance == 0.000) \n",
    "- rename DayOfWeek values"
   ]
  },
  {
   "cell_type": "code",
   "execution_count": null,
   "metadata": {
    "id": "OTTqoY0hXK3o"
   },
   "outputs": [],
   "source": [
    "# you want to check if trip duration column has null values\n",
    "dockless['Tripduration'].isna().sum()\n",
    "# it raises an error. \n",
    "# you messed the spelling with uppercase/lowercase (common mistake)"
   ]
  },
  {
   "cell_type": "code",
   "execution_count": null,
   "metadata": {
    "colab": {
     "base_uri": "https://localhost:8080/",
     "height": 564
    },
    "id": "eFgbPBl5XK3p",
    "outputId": "372196fc-b4f0-40cb-8d8c-2ec76ca061c1"
   },
   "outputs": [],
   "source": [
    "# to avoid errors in spelling, keep it simple\n",
    "# rename all your headers with lowercase\n",
    "dockless.columns= dockless.columns.str.lower()\n",
    "dockless.head()"
   ]
  },
  {
   "cell_type": "code",
   "execution_count": null,
   "metadata": {
    "colab": {
     "base_uri": "https://localhost:8080/"
    },
    "id": "lPgaVvokXK3q",
    "outputId": "38f00c20-b504-43ac-e824-4d6a04821c64"
   },
   "outputs": [],
   "source": [
    "# now check null values with simplified spelling\n",
    "dockless['tripduration'].isna().sum()"
   ]
  },
  {
   "cell_type": "code",
   "execution_count": null,
   "metadata": {
    "colab": {
     "base_uri": "https://localhost:8080/"
    },
    "id": "ZuBcnjeoXK3q",
    "outputId": "22d96475-82f9-4b86-a770-7b84c7a09ae1"
   },
   "outputs": [],
   "source": [
    "# there are no null values recorded (it means each data point has a value recorded)\n",
    "# but imagine you want to get rid of meaningless data points (such as trip distance = 0.00)\n",
    "(dockless['tripdistance']==0).sum()"
   ]
  },
  {
   "cell_type": "code",
   "execution_count": null,
   "metadata": {
    "id": "jPN3qbLvXK3r"
   },
   "outputs": [],
   "source": [
    "# delete data points where trip distance == 0 (it might affect your prediction performance)\n",
    "dockless = dockless[dockless['tripdistance'] != 0]"
   ]
  },
  {
   "cell_type": "code",
   "execution_count": null,
   "metadata": {
    "colab": {
     "base_uri": "https://localhost:8080/"
    },
    "id": "LfGOIfDDXK3r",
    "outputId": "a28dc685-7f61-4172-955a-8d644234960f"
   },
   "outputs": [],
   "source": [
    "# check for dataset size again\n",
    "dockless.shape"
   ]
  },
  {
   "cell_type": "code",
   "execution_count": null,
   "metadata": {
    "colab": {
     "base_uri": "https://localhost:8080/"
    },
    "id": "4hrQheOsXK3r",
    "outputId": "d18808c5-30d7-4918-e801-ae6733e9fa80"
   },
   "outputs": [],
   "source": [
    "# get unique values from dayofweek column\n",
    "dockless['dayofweek'].unique()\n",
    "# there are 7 days in the week, alright! but which one is 1st in their calendar ?"
   ]
  },
  {
   "cell_type": "code",
   "execution_count": null,
   "metadata": {
    "colab": {
     "base_uri": "https://localhost:8080/"
    },
    "id": "IVnPrZAqXK3s",
    "outputId": "744eb930-9040-4f3c-a0da-16e93142df37"
   },
   "outputs": [],
   "source": [
    "# import datetime module\n",
    "import datetime\n",
    "\n",
    "# from your dataset preview, fill the date where dayofweek == 1\n",
    "print(datetime.date(2019,9,22).strftime('%A'))"
   ]
  },
  {
   "cell_type": "code",
   "execution_count": null,
   "metadata": {
    "id": "Yl98DrItXK3s"
   },
   "outputs": [],
   "source": [
    "# create a dictionnary of values\n",
    "days = {1: \"Sunday\",\n",
    "        2: \"Monday\",\n",
    "        3: \"Tuesday\",\n",
    "        4: \"Wednesday\",\n",
    "        5: \"Thursday\",\n",
    "        6: \"Friday\",\n",
    "        7: \"Saturday\"\n",
    "       }\n",
    "\n",
    "# replace numbers by words in column 'dayofweek'\n",
    "dockless['dayofweek'] = dockless['dayofweek'].replace(days)"
   ]
  },
  {
   "cell_type": "code",
   "execution_count": null,
   "metadata": {
    "colab": {
     "base_uri": "https://localhost:8080/",
     "height": 547
    },
    "id": "t7r7ez3sXK3t",
    "outputId": "93c8e7b4-d17c-4efb-8c09-670eecdb7a21"
   },
   "outputs": [],
   "source": [
    "dockless.head()"
   ]
  },
  {
   "cell_type": "code",
   "execution_count": null,
   "metadata": {
    "colab": {
     "base_uri": "https://localhost:8080/"
    },
    "id": "QR-yLidKXK3t",
    "outputId": "2023a4c1-3167-4663-c377-47f0fa55f795"
   },
   "outputs": [],
   "source": [
    "# check hournum column\n",
    "dockless['hournum'].unique()"
   ]
  },
  {
   "cell_type": "code",
   "execution_count": null,
   "metadata": {
    "colab": {
     "base_uri": "https://localhost:8080/"
    },
    "id": "Nw8kxxzBgfQL",
    "outputId": "15a485aa-9af6-4a27-de87-82ef256ec7ec"
   },
   "outputs": [],
   "source": [
    "# check number of hours listed\n",
    "len(dockless['hournum'].unique())"
   ]
  },
  {
   "cell_type": "code",
   "execution_count": null,
   "metadata": {
    "id": "SWanXA5zXK3u"
   },
   "outputs": [],
   "source": [
    "# create a dictionary of values\n",
    "midnight = {24: 0,\n",
    "            '24:00': '00:00'}\n",
    "\n",
    "# hournum is read as an integer number, not as a string. convert it first\n",
    "dockless['hournum'] = dockless['hournum'].astype(object)\n",
    "\n",
    "# replace 24 with 0\n",
    "dockless['hournum'] = dockless['hournum'].replace(midnight)\n",
    "# same with starttime and endtime columns\n",
    "dockless['starttime'] = dockless['starttime'].replace(midnight)\n",
    "dockless['endtime'] = dockless['endtime'].replace(midnight)"
   ]
  },
  {
   "cell_type": "code",
   "execution_count": null,
   "metadata": {
    "colab": {
     "base_uri": "https://localhost:8080/"
    },
    "id": "JyPWiPZkXK3u",
    "outputId": "28cb6061-34d5-451c-f31d-0ea4477e08f1"
   },
   "outputs": [],
   "source": [
    "dockless['hournum'].unique()"
   ]
  },
  {
   "cell_type": "markdown",
   "metadata": {
    "id": "DZrM3FSgXK3v"
   },
   "source": [
    "### 2. Exploratory Data Analysis:\n",
    "- look at some distribution, calculate mean and standard dev\n",
    "- plot histogram of distribution depending on day of the week => which day is more crowded?\n",
    "- same with hour => which hour of the day is more crowded?"
   ]
  },
  {
   "cell_type": "code",
   "execution_count": null,
   "metadata": {
    "colab": {
     "base_uri": "https://localhost:8080/"
    },
    "id": "ETx3WVaeXK3v",
    "outputId": "efce38c6-0f49-447e-96be-dd510a9a5d19"
   },
   "outputs": [],
   "source": [
    "# calculate the mean of trip duration\n",
    "dockless['tripduration'].mean()"
   ]
  },
  {
   "cell_type": "code",
   "execution_count": null,
   "metadata": {
    "colab": {
     "base_uri": "https://localhost:8080/"
    },
    "id": "nvMaQSHiXK3v",
    "outputId": "78996d4a-4629-434d-8458-e11ab72b64f2"
   },
   "outputs": [],
   "source": [
    "# check standard deviation\n",
    "dockless['tripduration'].std()\n",
    "# pretty scattered distribution! "
   ]
  },
  {
   "cell_type": "code",
   "execution_count": null,
   "metadata": {
    "colab": {
     "base_uri": "https://localhost:8080/"
    },
    "id": "eNW_pn-oXK3w",
    "outputId": "e4fec12f-8966-48de-ee42-b463d60efb89"
   },
   "outputs": [],
   "source": [
    "# check more descriptive statistics\n",
    "dockless['tripduration'].describe()"
   ]
  },
  {
   "cell_type": "code",
   "execution_count": null,
   "metadata": {
    "colab": {
     "base_uri": "https://localhost:8080/"
    },
    "id": "V0d_XVS4jSQo",
    "outputId": "2c738e50-ad04-4d38-88da-836ad2270c7d"
   },
   "outputs": [],
   "source": [
    "# a trip of 3167 ?\n",
    "print(3167/60) # how many hours \n",
    "print(3167/60/24) # how many days\n",
    "print(3167/9) # how many times the median value ?"
   ]
  },
  {
   "cell_type": "code",
   "execution_count": null,
   "metadata": {
    "colab": {
     "base_uri": "https://localhost:8080/",
     "height": 333
    },
    "id": "M2B2blNaXK3w",
    "outputId": "9cee1943-1ef2-4d62-fc6b-1b49a0e00760"
   },
   "outputs": [],
   "source": [
    "# the max value does not make sense. It must be an outlier, affecting our stats.\n",
    "# visualise variable distribution\n",
    "x = dockless['tripduration']\n",
    "ax = sns.distplot(x)\n",
    "plt.show()"
   ]
  },
  {
   "cell_type": "code",
   "execution_count": null,
   "metadata": {
    "id": "1CkKoj_9XK3w"
   },
   "outputs": [],
   "source": [
    "# in a sub-dataset delete trip duration values above 240 min (=4 hours)\n",
    "dockless_sub = dockless[dockless['tripduration'] < 240]"
   ]
  },
  {
   "cell_type": "code",
   "execution_count": null,
   "metadata": {
    "colab": {
     "base_uri": "https://localhost:8080/",
     "height": 333
    },
    "id": "d9z5V10WXK3w",
    "outputId": "51b13e4f-a539-4df3-d6a0-50db4e530937"
   },
   "outputs": [],
   "source": [
    "# plot again\n",
    "x = dockless_sub['tripduration']\n",
    "ax = sns.distplot(x)\n",
    "plt.show()"
   ]
  },
  {
   "cell_type": "code",
   "execution_count": null,
   "metadata": {
    "id": "d8iVC0IbXK3w"
   },
   "outputs": [],
   "source": [
    "# tighten to 90 min (= 1.5 hours)\n",
    "dockless_sub = dockless[dockless['tripduration'] < 90]"
   ]
  },
  {
   "cell_type": "code",
   "execution_count": null,
   "metadata": {
    "colab": {
     "base_uri": "https://localhost:8080/",
     "height": 336
    },
    "id": "u1YIsjP9XK3x",
    "outputId": "5db8d34d-5a77-4f04-e567-dcb4bc973c33"
   },
   "outputs": [],
   "source": [
    "# plot again\n",
    "x = dockless_sub['tripduration']\n",
    "ax = sns.distplot(x)\n",
    "plt.show()"
   ]
  },
  {
   "cell_type": "code",
   "execution_count": null,
   "metadata": {
    "colab": {
     "base_uri": "https://localhost:8080/"
    },
    "id": "lKhUk-MZXK3x",
    "outputId": "0bace7df-036c-43ee-aae9-e58d3e40e936"
   },
   "outputs": [],
   "source": [
    "# count trips per day\n",
    "dockless['dayofweek'].value_counts()"
   ]
  },
  {
   "cell_type": "code",
   "execution_count": null,
   "metadata": {
    "colab": {
     "base_uri": "https://localhost:8080/",
     "height": 330
    },
    "id": "3NlHA6BqXK3x",
    "outputId": "3713ad2c-0753-4a04-d6db-b5f4002889cb"
   },
   "outputs": [],
   "source": [
    "# plot the trips per day\n",
    "dockless['dayofweek'].value_counts().plot(kind='bar')"
   ]
  },
  {
   "cell_type": "code",
   "execution_count": null,
   "metadata": {
    "colab": {
     "base_uri": "https://localhost:8080/",
     "height": 285
    },
    "id": "YBMOFrV5XK3x",
    "outputId": "653cec49-b6c1-44b3-c0de-f63a9058df2f"
   },
   "outputs": [],
   "source": [
    "# plot the use of vehicles by hours of the day\n",
    "dockless['hournum'].value_counts().plot(kind='bar')"
   ]
  },
  {
   "cell_type": "code",
   "execution_count": null,
   "metadata": {
    "colab": {
     "base_uri": "https://localhost:8080/",
     "height": 282
    },
    "id": "RwCG1gpxma0_",
    "outputId": "65063297-1f1a-4a87-9fc4-886c13c674e3"
   },
   "outputs": [],
   "source": [
    "# same but sorted\n",
    "dockless['hournum'].hist(bins = 24)"
   ]
  },
  {
   "cell_type": "code",
   "execution_count": null,
   "metadata": {
    "colab": {
     "base_uri": "https://localhost:8080/",
     "height": 453
    },
    "id": "BhfazVZjXK3y",
    "outputId": "00dfd020-5180-4651-9529-900f162a62b3"
   },
   "outputs": [],
   "source": [
    "# is every day similar ?\n",
    "dockless['hournum'].hist(by=dockless['dayofweek'], sharex=True, sharey=True)"
   ]
  },
  {
   "cell_type": "markdown",
   "metadata": {
    "id": "5ahGlEh1XK3y"
   },
   "source": [
    "### 3. Look for dependencies between variables:\n",
    "- correlation matrix with pearson coefficient\n",
    "- heatmap"
   ]
  },
  {
   "cell_type": "code",
   "execution_count": null,
   "metadata": {
    "colab": {
     "base_uri": "https://localhost:8080/",
     "height": 266
    },
    "id": "ErY5EYE-XK3y",
    "outputId": "4b7eec63-b5d9-43ad-f94a-ab0434cd0563"
   },
   "outputs": [],
   "source": [
    "# pearson coefficient is a correlation indicator\n",
    "# generate a pearson coefficient for each peer of variables\n",
    "pearson = dockless.corr(method='pearson')\n",
    "pearson"
   ]
  },
  {
   "cell_type": "code",
   "execution_count": null,
   "metadata": {
    "colab": {
     "base_uri": "https://localhost:8080/",
     "height": 330
    },
    "id": "7DARnHg2XK3y",
    "outputId": "c83a09f1-735b-4a96-9340-8f7c73c2686a"
   },
   "outputs": [],
   "source": [
    "# visualize correlation between variables through a heatmap\n",
    "sns.heatmap(pearson, annot=True)\n",
    "plt.show()"
   ]
  },
  {
   "cell_type": "markdown",
   "metadata": {
    "id": "LG60EwUiXK3z"
   },
   "source": [
    "### 4. Data visualization:\n",
    "- plot the relationship of the most correlated variables (scatter plot of X / Y variables) => linear regression by adding a straight line on plot\n",
    "- point lat/long on folium map\n",
    "- draw edges between origin/destination\n",
    "- aggregate datapoints to visualise it all"
   ]
  },
  {
   "cell_type": "code",
   "execution_count": null,
   "metadata": {
    "colab": {
     "base_uri": "https://localhost:8080/",
     "height": 296
    },
    "id": "DrA89NMbXK3z",
    "outputId": "99861251-24f6-43be-9edb-7dedc3d54731"
   },
   "outputs": [],
   "source": [
    "# scatter plot the relationship between trip distance and trip duration\n",
    "sns.scatterplot(data=dockless, x=\"tripdistance\", y=\"tripduration\")"
   ]
  },
  {
   "cell_type": "code",
   "execution_count": null,
   "metadata": {
    "colab": {
     "base_uri": "https://localhost:8080/",
     "height": 296
    },
    "id": "b3_DtatIXK3z",
    "outputId": "0ead6199-a06f-4b06-8c13-880794346704"
   },
   "outputs": [],
   "source": [
    "# plot a subset inside the crowded window\n",
    "sns.scatterplot(data=dockless.loc[(dockless['tripdistance']<20) & (dockless['tripduration']<500)], x=\"tripdistance\", y=\"tripduration\")"
   ]
  },
  {
   "cell_type": "code",
   "execution_count": null,
   "metadata": {
    "colab": {
     "base_uri": "https://localhost:8080/",
     "height": 458
    },
    "id": "6zFlooFpXK3z",
    "outputId": "0f9b4233-4289-49ad-8322-c55155523b91"
   },
   "outputs": [],
   "source": [
    "# add a linear regression line to the scatterplot\n",
    "sns.jointplot(x=\"tripdistance\", y=\"tripduration\", data=dockless, kind='reg',joint_kws={'line_kws':{'color':'black'}})\n",
    "# as we can see, the longer the distance, the longer the duration"
   ]
  },
  {
   "cell_type": "code",
   "execution_count": null,
   "metadata": {
    "colab": {
     "base_uri": "https://localhost:8080/",
     "height": 763
    },
    "id": "hiLVDHxxXK30",
    "outputId": "f63aa509-d418-45b5-b696-7114aa128bd5"
   },
   "outputs": [],
   "source": [
    "# visualise spatial distribution of data points\n",
    "plt.figure(figsize = (10,10))\n",
    "sns.jointplot(x=dockless.startlatitude.values, y = dockless.startlongitude.values, height = 10)\n",
    "plt.ylabel('Longitude', fontsize = 12)\n",
    "plt.xlabel('Latitude', fontsize = 12)\n",
    "plt.show()\n",
    "sns.despine\n",
    "# there is hyper-concentration in center city and a few outliers"
   ]
  },
  {
   "cell_type": "code",
   "execution_count": null,
   "metadata": {
    "colab": {
     "base_uri": "https://localhost:8080/"
    },
    "id": "EUirHO46XK30",
    "outputId": "824307ed-7d5b-40a4-916a-8b3c11394297"
   },
   "outputs": [],
   "source": [
    "dockless.shape\n",
    "# there are lots of datapoints"
   ]
  },
  {
   "cell_type": "code",
   "execution_count": null,
   "metadata": {
    "id": "SXKWsfb0XK30"
   },
   "outputs": [],
   "source": [
    "# random selection of 1000 data points\n",
    "sample = dockless.sample(n=1000)"
   ]
  },
  {
   "cell_type": "code",
   "execution_count": null,
   "metadata": {
    "colab": {
     "base_uri": "https://localhost:8080/",
     "height": 763
    },
    "id": "COitOFNYXK30",
    "outputId": "547f0d51-376e-4d5e-f558-e67030239dc4"
   },
   "outputs": [],
   "source": [
    "# what does our sample data looks like on this graph?\n",
    "plt.figure(figsize = (10,10))\n",
    "sns.jointplot(x=sample.startlatitude.values, y = sample.startlongitude.values, height = 10)\n",
    "plt.ylabel('Longitude', fontsize = 12)\n",
    "plt.xlabel('Latitude', fontsize = 12)\n",
    "plt.show()\n",
    "sns.despine"
   ]
  },
  {
   "cell_type": "code",
   "execution_count": null,
   "metadata": {
    "id": "ZDyGkdBPXK30"
   },
   "outputs": [],
   "source": [
    "# visualise the spatial data points on maps\n",
    "import folium\n",
    "from folium.plugins import HeatMap\n",
    "from folium.plugins import HeatMapWithTime"
   ]
  },
  {
   "cell_type": "code",
   "execution_count": null,
   "metadata": {
    "id": "-GskqwHxXK31"
   },
   "outputs": [],
   "source": [
    "# enter Louisville coordinates\n",
    "Louisville=[38.2527,-85.7585]"
   ]
  },
  {
   "cell_type": "code",
   "execution_count": null,
   "metadata": {
    "colab": {
     "base_uri": "https://localhost:8080/",
     "height": 556
    },
    "id": "u7uf4U4uXK31",
    "outputId": "ff9b6e40-ca3a-418d-bb05-113f6460008f",
    "scrolled": true
   },
   "outputs": [],
   "source": [
    "# map Louisville\n",
    "map_louisville = folium.Map(location=Louisville,\n",
    "                            zoom_start=12)\n",
    "map_louisville"
   ]
  },
  {
   "cell_type": "code",
   "execution_count": null,
   "metadata": {
    "colab": {
     "base_uri": "https://localhost:8080/",
     "height": 556
    },
    "id": "F2gZanCWXK31",
    "outputId": "08d56b7d-5b69-4db2-e69d-c0880deae113"
   },
   "outputs": [],
   "source": [
    "# map origin points\n",
    "map_origin = folium.Map(location=Louisville,\n",
    "                            zoom_start=12)\n",
    "\n",
    "for lat, lng in zip(sample['startlatitude'],\n",
    "                    sample['startlongitude']):\n",
    "    folium.CircleMarker([lat, lng],\n",
    "                        radius=2, \n",
    "                        stroke=False, \n",
    "                        fill_color='blue',\n",
    "                        fill_opacity=0.5).add_to(map_origin)\n",
    "\n",
    "map_origin"
   ]
  },
  {
   "cell_type": "code",
   "execution_count": null,
   "metadata": {
    "colab": {
     "base_uri": "https://localhost:8080/",
     "height": 556
    },
    "id": "tZj7Q3pariYC",
    "outputId": "d546fd2d-19cc-457f-ae43-253d6c67e571"
   },
   "outputs": [],
   "source": [
    "# cluster points to make the map more readable\n",
    "map_cluster = folium.Map(location=Louisville,\n",
    "                            zoom_start=12)\n",
    "\n",
    "cluster = folium.plugins.MarkerCluster().add_to(map_cluster)\n",
    "\n",
    "for lat, lng in zip(sample['startlatitude'],\n",
    "                    sample['startlongitude']):\n",
    "    folium.Marker([lat, lng]).add_to(cluster)\n",
    "        \n",
    "map_cluster"
   ]
  },
  {
   "cell_type": "code",
   "execution_count": null,
   "metadata": {
    "colab": {
     "base_uri": "https://localhost:8080/",
     "height": 556
    },
    "id": "iD5s6rDnrijw",
    "outputId": "7c93891f-31bb-41f0-86c0-dea9dd81fdf5"
   },
   "outputs": [],
   "source": [
    "# visualise data points on a heatmap\n",
    "heatmap = folium.Map(location=Louisville,\n",
    "                            zoom_start=12)\n",
    "\n",
    "HeatMap(data=sample[['startlatitude', 'startlongitude']].groupby(['startlatitude','startlongitude']).sum().reset_index().values.tolist(),\n",
    "       radius=8, max_zoom=12).add_to(heatmap)\n",
    "\n",
    "heatmap"
   ]
  },
  {
   "cell_type": "code",
   "execution_count": null,
   "metadata": {
    "colab": {
     "base_uri": "https://localhost:8080/",
     "height": 556
    },
    "id": "x0YUnNdoXK31",
    "outputId": "1fd88157-b670-401c-ebd4-1c7a78f66b00"
   },
   "outputs": [],
   "source": [
    "# map destination points\n",
    "map_destination = folium.Map(location=Louisville,\n",
    "                            zoom_start=12)\n",
    "\n",
    "for lat, lng in zip(sample['endlatitude'],\n",
    "                    sample['endlongitude']):\n",
    "    folium.CircleMarker([lat, lng],\n",
    "                        radius=2, \n",
    "                        stroke=False, \n",
    "                        fill_color='red',\n",
    "                        fill_opacity=0.5).add_to(map_destination)\n",
    "\n",
    "map_destination"
   ]
  },
  {
   "cell_type": "code",
   "execution_count": null,
   "metadata": {
    "colab": {
     "base_uri": "https://localhost:8080/",
     "height": 556
    },
    "id": "QcMzLz_JXK32",
    "outputId": "6720d389-e711-4b96-fcce-d2670c8c649e"
   },
   "outputs": [],
   "source": [
    "map_trip = folium.Map(location=Louisville,\n",
    "                            zoom_start=12)\n",
    "\n",
    "for i, row in sample.iterrows():\n",
    "    folium.CircleMarker([row['startlatitude'], row['startlongitude']],\n",
    "                        radius=4,\n",
    "                        stroke=False,\n",
    "                        fill_color='blue',\n",
    "                        fill_opacity=0.7).add_to(map_trip)\n",
    "    \n",
    "    folium.CircleMarker([row['endlatitude'], row['endlongitude']],\n",
    "                        radius=4,\n",
    "                        stroke=False,\n",
    "                        fill_color='red',\n",
    "                        fill_opacity=0.7).add_to(map_trip)\n",
    "    \n",
    "    folium.PolyLine([[row['startlatitude'], row['startlongitude']],\n",
    "                    [row['endlatitude'], row['endlongitude']]],\n",
    "                    strokeColor= \"#000000\"\n",
    "                   ).add_to(map_trip)\n",
    "\n",
    "map_trip"
   ]
  },
  {
   "cell_type": "markdown",
   "metadata": {
    "id": "iSBK6neqXK33"
   },
   "source": [
    "### 5. Machine learning on mobility data\n",
    "- Recall the research question\n",
    "- Define X-y axes accordingly \n",
    "- split dataset in train/test subsets\n",
    "- 1st run (compare accuracy scores) \n",
    "- plot predictions/actual data => want to refine your scores\n",
    "- plot feature importance\n",
    "- reduce feature redundancy\n",
    "- 2nd run (compare accuracy scores) => better accuracy with refined datasets"
   ]
  },
  {
   "cell_type": "markdown",
   "metadata": {
    "id": "PPQZ7BzdXK33"
   },
   "source": [
    "# Problem statement\n",
    "What data do we have at our disposal?\n",
    "- origin/destination points\n",
    "- trip duration\n",
    "- trip distance\n",
    "- day of the week\n",
    "- hour of the day\n",
    "\n",
    "Can we predict the hour of a trip from the day of the week ? NO. As seen above, all days has the same hours distribution.\n",
    "Can we predict the day of the week from the trip duration ? If we can imagine that on the weekend the users are riding longer trips since they have more time, so far, we haven't found any evidence in the correlation matrix.\n",
    "Can we predict the trip duration from the trip distance ? YES. Is it meaningful? Yes, as all GPS always predict your time of arrival when you enter a destination.\n",
    "\n",
    "### We will use machine learning to predict the trip duration from a distance between origin and destination points.\n",
    "\n",
    "#### since trip duration is a continuous numerical value, we will use regression models of ML\n",
    "suppose we had a categorical value to predict, we would have used classification models"
   ]
  },
  {
   "cell_type": "code",
   "execution_count": null,
   "metadata": {
    "colab": {
     "base_uri": "https://localhost:8080/"
    },
    "id": "KO7j0xuGXK33",
    "outputId": "18922b50-4a0d-42df-f3ac-a51c9539cc4e"
   },
   "outputs": [],
   "source": [
    "dockless.dtypes"
   ]
  },
  {
   "cell_type": "code",
   "execution_count": null,
   "metadata": {
    "id": "C7_DLjQOXK33"
   },
   "outputs": [],
   "source": [
    "# define X-y axis, excluding non-numerical values\n",
    "y = dockless['tripduration'] # dependent variable\n",
    "X = dockless.select_dtypes(exclude=['object']).drop(['tripduration'], axis=1)"
   ]
  },
  {
   "cell_type": "code",
   "execution_count": null,
   "metadata": {
    "id": "tqW_F_v_XK34"
   },
   "outputs": [],
   "source": [
    "# split dataset in train/test\n",
    "from sklearn.model_selection import train_test_split\n",
    "X_train, X_test, y_train, y_test = train_test_split(X, y, test_size = 0.33, random_state = 100)\n",
    "# usually 1/3 train and 2/3 test selected randomly"
   ]
  },
  {
   "cell_type": "code",
   "execution_count": null,
   "metadata": {
    "id": "ShoyXkLjXK34"
   },
   "outputs": [],
   "source": [
    "# linear regression\n",
    "from sklearn import linear_model\n",
    "\n",
    "lr = linear_model.LinearRegression()\n",
    "lr_model =lr.fit(X_train, y_train)\n",
    "\n",
    "lr_pred = lr_model.predict(X_test)"
   ]
  },
  {
   "cell_type": "code",
   "execution_count": null,
   "metadata": {
    "colab": {
     "base_uri": "https://localhost:8080/"
    },
    "id": "tj4YfDo9XK34",
    "outputId": "fb31647f-41de-4ba0-a989-594be2beb152"
   },
   "outputs": [],
   "source": [
    "# calculate statistical measures\n",
    "from sklearn.metrics import mean_absolute_error, mean_squared_error, r2_score\n",
    "import statistics\n",
    "\n",
    "MAE = mean_absolute_error(y_test, lr_pred)\n",
    "MSE = mean_squared_error(y_test, lr_pred)\n",
    "RMSE = np.sqrt(MSE)\n",
    "R2 = r2_score(y_test, lr_pred)\n",
    "print(\"MAE: %6.2f\" % (MAE))\n",
    "print(\"MSE: %6.2f\" % (MSE))\n",
    "print(\"RMSE: %6.2f\" % (RMSE))\n",
    "print(\"R2: %6.2f\" % (R2))"
   ]
  },
  {
   "cell_type": "code",
   "execution_count": null,
   "metadata": {
    "colab": {
     "base_uri": "https://localhost:8080/",
     "height": 296
    },
    "id": "Y1ckBHNCXK34",
    "outputId": "2767c57a-6073-4379-f877-96e02aed42eb"
   },
   "outputs": [],
   "source": [
    "# Visualizing model performance\n",
    "plt.scatter(y_test, lr_pred)\n",
    "plt.xlabel('Actual Values')\n",
    "plt.ylabel('Predictions')\n",
    "\n",
    "# Ideal predictions plot\n",
    "plt.plot(y_test,y_test,'r')"
   ]
  },
  {
   "cell_type": "code",
   "execution_count": null,
   "metadata": {
    "colab": {
     "base_uri": "https://localhost:8080/",
     "height": 405
    },
    "id": "7KaioxYSXK34",
    "outputId": "e4c1734d-39ac-4be2-b20d-282919c3b221"
   },
   "outputs": [],
   "source": [
    "# Plotting residuals\n",
    "fig = plt.figure(figsize=(10,5))\n",
    "residuals = (y_test- lr_pred)\n",
    "sns.distplot(residuals)"
   ]
  },
  {
   "cell_type": "markdown",
   "metadata": {
    "id": "AnuI9PWhXK35"
   },
   "source": [
    "#### not bad at all for a first run, but we will try to make it better (MAE < 5)\n",
    "- one way will be to use a meta estimator such as decision tree regressor to identify which feature contribute the most to the trip duration."
   ]
  },
  {
   "cell_type": "code",
   "execution_count": null,
   "metadata": {
    "colab": {
     "base_uri": "https://localhost:8080/"
    },
    "id": "U7lZaaE0XK35",
    "outputId": "32c80a72-95bd-4339-93da-8fecf44cfe00"
   },
   "outputs": [],
   "source": [
    "# import library\n",
    "from sklearn.tree import DecisionTreeRegressor\n",
    "\n",
    "# define the model with DecisionTreeRegressor\n",
    "model = DecisionTreeRegressor()\n",
    "# fit the model\n",
    "model.fit(X_train, y_train)"
   ]
  },
  {
   "cell_type": "code",
   "execution_count": null,
   "metadata": {
    "colab": {
     "base_uri": "https://localhost:8080/",
     "height": 384
    },
    "id": "X75nQBd2XK35",
    "outputId": "7eabf74e-54ed-4722-9452-a791561f62c7"
   },
   "outputs": [],
   "source": [
    "importance = model.feature_importances_\n",
    "\n",
    "print(importance[0])\n",
    "\n",
    "# summarize feature importance\n",
    "for i,v in enumerate(importance):\n",
    "    print('Feature: %0d, Score: %.5f' % (i,v))\n",
    "    \n",
    "# plot feature importance\n",
    "plt.bar([x for x in range(len(importance))], importance)\n",
    "plt.show()"
   ]
  },
  {
   "cell_type": "markdown",
   "metadata": {
    "id": "zqYXSsZjXK35"
   },
   "source": [
    "#### pretty clear that trip distance is the only feature of valuable importance to predict trip duration"
   ]
  },
  {
   "cell_type": "code",
   "execution_count": null,
   "metadata": {
    "colab": {
     "base_uri": "https://localhost:8080/"
    },
    "id": "ZeYhdj03XK36",
    "outputId": "c264ee0d-1958-4ab6-8d6f-aaca17e56041"
   },
   "outputs": [],
   "source": [
    "# recursive feature elimination\n",
    "from sklearn.feature_selection import RFE\n",
    "\n",
    "# define method\n",
    "rfe = RFE(estimator=DecisionTreeRegressor(), n_features_to_select=1)\n",
    "# fit the model\n",
    "rfe.fit(X,y)\n",
    "# transform the data\n",
    "X_rfe = rfe.transform(X)\n",
    "print(\"num features: %d\" % rfe.n_features_)\n",
    "print(\"selected features: %s\" % rfe.support_)\n",
    "print(\"feature ranking: %s\" % rfe.ranking_)"
   ]
  },
  {
   "cell_type": "code",
   "execution_count": null,
   "metadata": {
    "id": "j9v01n_XXK36"
   },
   "outputs": [],
   "source": [
    "# train/test split the new dataset\n",
    "X_train, X_test, y_train, y_test = train_test_split(X_rfe, y, test_size = 0.33, random_state = 100)"
   ]
  },
  {
   "cell_type": "code",
   "execution_count": null,
   "metadata": {
    "id": "LnA_8G-aXK36"
   },
   "outputs": [],
   "source": [
    "# linear regression on refined dataset\n",
    "lr = linear_model.LinearRegression()\n",
    "lr_model =lr.fit(X_train, y_train)\n",
    "\n",
    "lr_pred2 = lr_model.predict(X_test)"
   ]
  },
  {
   "cell_type": "code",
   "execution_count": null,
   "metadata": {
    "colab": {
     "base_uri": "https://localhost:8080/"
    },
    "id": "HnSkI0ypXK36",
    "outputId": "9a1f5eb4-4c00-409f-d919-4c9ddcb30e56"
   },
   "outputs": [],
   "source": [
    "# performance metrics\n",
    "MAE2 = mean_absolute_error(y_test, lr_pred2)\n",
    "MSE2 = mean_squared_error(y_test, lr_pred2)\n",
    "RMSE2 = np.sqrt(MSE)\n",
    "R22 = r2_score(y_test, lr_pred2)\n",
    "print(\"MAE: %6.2f\" % (MAE2))\n",
    "print(\"MSE: %6.2f\" % (MSE2))\n",
    "print(\"RMSE: %6.2f\" % (RMSE2))\n",
    "print(\"R2: %6.2f\" % (R22))"
   ]
  },
  {
   "cell_type": "markdown",
   "metadata": {
    "id": "MRiVWUq7XK36"
   },
   "source": [
    "#### Reducing features didn't made the predictions better. \n",
    "It seems that the other variables such as origin/destination positions slightly plays a role in the trip duration too.\n",
    "\n",
    "- another way to improve our machine learning algorithm will be to delete outliers from the dataset"
   ]
  },
  {
   "cell_type": "code",
   "execution_count": null,
   "metadata": {
    "id": "Vs49bRygzQhh"
   },
   "outputs": [],
   "source": [
    "# remember dockless_sub with trip duration < 90 min ? redefine X-y axis\n",
    "y_sub = dockless_sub['tripduration'] # dependent variable\n",
    "X_sub = dockless_sub.select_dtypes(exclude=['object']).drop(['tripduration'], axis=1)"
   ]
  },
  {
   "cell_type": "code",
   "execution_count": null,
   "metadata": {
    "id": "BYhzzu5-z_LN"
   },
   "outputs": [],
   "source": [
    "# split sub dataset in train/test\n",
    "from sklearn.model_selection import train_test_split\n",
    "X_train, X_test, y_train, y_test = train_test_split(X_sub, y_sub, test_size = 0.33, random_state = 100)"
   ]
  },
  {
   "cell_type": "code",
   "execution_count": null,
   "metadata": {
    "id": "M49QuIGTz_S1"
   },
   "outputs": [],
   "source": [
    "# linear regression\n",
    "from sklearn import linear_model\n",
    "\n",
    "lr = linear_model.LinearRegression()\n",
    "lr_model =lr.fit(X_train, y_train)\n",
    "\n",
    "lr_pred = lr_model.predict(X_test)"
   ]
  },
  {
   "cell_type": "code",
   "execution_count": null,
   "metadata": {
    "colab": {
     "base_uri": "https://localhost:8080/"
    },
    "id": "kmWg7Vzgz_ZU",
    "outputId": "315ad21c-372b-43e5-9755-56b02e082073"
   },
   "outputs": [],
   "source": [
    "# calculate statistical measures\n",
    "MAE = mean_absolute_error(y_test, lr_pred)\n",
    "MSE = mean_squared_error(y_test, lr_pred)\n",
    "RMSE = np.sqrt(MSE)\n",
    "R2 = r2_score(y_test, lr_pred)\n",
    "print(\"MAE: %6.2f\" % (MAE))\n",
    "print(\"MSE: %6.2f\" % (MSE))\n",
    "print(\"RMSE: %6.2f\" % (RMSE))\n",
    "print(\"R2: %6.2f\" % (R2))"
   ]
  },
  {
   "cell_type": "markdown",
   "metadata": {
    "id": "FGXdsAD40_Tf"
   },
   "source": [
    "### better but we can try to improve it again"
   ]
  },
  {
   "cell_type": "code",
   "execution_count": null,
   "metadata": {
    "id": "feE3IDiw4M3i"
   },
   "outputs": [],
   "source": [
    "# as most courses are short check on a trip duration < 20\n",
    "dockless_sub = dockless_sub[dockless_sub['tripdistance'] < 20]"
   ]
  },
  {
   "cell_type": "code",
   "execution_count": null,
   "metadata": {
    "id": "d-g00iIf4qtO"
   },
   "outputs": [],
   "source": [
    "# remember dockless_sub with trip duration < 90 min ? redefine X-y axis\n",
    "y_sub = dockless_sub['tripduration'] # dependent variable\n",
    "X_sub = dockless_sub.select_dtypes(exclude=['object']).drop(['tripduration'], axis=1)"
   ]
  },
  {
   "cell_type": "code",
   "execution_count": null,
   "metadata": {
    "id": "rsIdAjau4vnT"
   },
   "outputs": [],
   "source": [
    "# split sub dataset in train/test\n",
    "from sklearn.model_selection import train_test_split\n",
    "X_train, X_test, y_train, y_test = train_test_split(X_sub, y_sub, test_size = 0.33, random_state = 100)"
   ]
  },
  {
   "cell_type": "code",
   "execution_count": null,
   "metadata": {
    "id": "k8Jelgo-4vq7"
   },
   "outputs": [],
   "source": [
    "# linear regression\n",
    "from sklearn import linear_model\n",
    "\n",
    "lr = linear_model.LinearRegression()\n",
    "lr_model =lr.fit(X_train, y_train)\n",
    "\n",
    "lr_pred = lr_model.predict(X_test)"
   ]
  },
  {
   "cell_type": "code",
   "execution_count": null,
   "metadata": {
    "colab": {
     "base_uri": "https://localhost:8080/"
    },
    "id": "Fw8vXDQt4vw6",
    "outputId": "4dbd0c3c-91ec-4795-90b2-d6e4692ac020"
   },
   "outputs": [],
   "source": [
    "# calculate statistical measures\n",
    "MAE = mean_absolute_error(y_test, lr_pred)\n",
    "MSE = mean_squared_error(y_test, lr_pred)\n",
    "RMSE = np.sqrt(MSE)\n",
    "R2 = r2_score(y_test, lr_pred)\n",
    "print(\"MAE: %6.2f\" % (MAE))\n",
    "print(\"MSE: %6.2f\" % (MSE))\n",
    "print(\"RMSE: %6.2f\" % (RMSE))\n",
    "print(\"R2: %6.2f\" % (R2))"
   ]
  },
  {
   "cell_type": "markdown",
   "metadata": {
    "id": "NzMLJB775JmW"
   },
   "source": [
    "# from 7.80 MAE we decreased to 5.98."
   ]
  },
  {
   "cell_type": "markdown",
   "metadata": {
    "id": "-W6gFpG7XK36"
   },
   "source": [
    "## Conclusion:\n",
    "- this is how we program intelligent machines, by testing combinations of data and looping through datasets to reach the best predictive performances.\n",
    "- when your accuracy score reachs a threshold value (usually >95%) you can deploy your model for production on completely new datasets and assume the predictions will be statistically valid. \n",
    "- in a more advanced fashion, we could make predictions on time or spatial data: for example trying to predict the car traffic or the destination of a trip depending its origin and duration.\n",
    "### Artificial intelligences are probabilities and statistics performed by performative brains (machines)!"
   ]
  },
  {
   "cell_type": "markdown",
   "metadata": {
    "id": "QiOKEt5kXK37"
   },
   "source": [
    "## => Now your turn! Do the same with \"Louisville-Dockless-Trips.csv\" file. Follow the notebook line by line, fill the code with your data specificities"
   ]
  }
 ],
 "metadata": {
  "colab": {
   "collapsed_sections": [
    "iSBK6neqXK33"
   ],
   "name": "LiveLab Sept.21 - ML on mobility data.ipynb",
   "provenance": []
  },
  "kernelspec": {
   "display_name": "Python 3",
   "language": "python",
   "name": "python3"
  },
  "language_info": {
   "codemirror_mode": {
    "name": "ipython",
    "version": 3
   },
   "file_extension": ".py",
   "mimetype": "text/x-python",
   "name": "python",
   "nbconvert_exporter": "python",
   "pygments_lexer": "ipython3",
   "version": "3.8.3"
  }
 },
 "nbformat": 4,
 "nbformat_minor": 5
}
